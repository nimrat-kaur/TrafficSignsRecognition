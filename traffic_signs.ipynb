{
 "cells": [
  {
   "cell_type": "markdown",
   "id": "3b61114d",
   "metadata": {},
   "source": [
    "# Traffic Signs Recognition using CNN & Keras\n",
    "\n",
    "##### Our approach to building this traffic sign classification model is discussed in four steps:\n",
    "[1] Explore the dataset\n",
    "\n",
    "[2] Build a CNN model\n",
    "\n",
    "[3] Train and validate the model\n",
    "\n",
    "[4] Test the model with test dataset"
   ]
  },
  {
   "cell_type": "markdown",
   "id": "3c516346",
   "metadata": {},
   "source": [
    "### Step 1: Explore the dataset \n",
    "\n",
    "Our ‘train’ folder contains 43 folders each representing a different class. The range of the folder is from 0 to 42. With the help of the OS module, we iterate over all the classes and append images and their respective labels in the data and labels list.\n",
    "\n",
    "The PIL library is used to open image content into an array."
   ]
  },
  {
   "cell_type": "code",
   "execution_count": 35,
   "id": "d5f8ad51",
   "metadata": {},
   "outputs": [],
   "source": [
    "import numpy as np \n",
    "import pandas as pd \n",
    "import matplotlib.pyplot as plt\n",
    "import cv2\n",
    "import tensorflow as tf\n",
    "from PIL import Image\n",
    "import os\n",
    "from sklearn.model_selection import train_test_split\n",
    "from keras.utils import to_categorical\n",
    "from keras.models import Sequential, load_model\n",
    "from keras.layers import Conv2D, MaxPool2D, Dense, Flatten, Dropout\n",
    "\n",
    "data = []\n",
    "labels = []\n",
    "classes = 43\n",
    "cur_path = os.getcwd()\n",
    "\n",
    "#Retrieving the images and their labels \n",
    "for i in range(classes):\n",
    "     # Path of each image\n",
    "    path = os.path.join(cur_path,'train',str(i))\n",
    "    images = os.listdir(path)\n",
    "\n",
    "    for a in images:\n",
    "        # Try to load the images\n",
    "        try:\n",
    "            image = Image.open(path + '\\\\'+ a)\n",
    "            # Resizes the image to 30x30\n",
    "            image = image.resize((30,30))\n",
    "            # Turns the image into an array\n",
    "            image = np.array(image)\n",
    "            #sim = Image.fromarray(image)\n",
    "            # Append the image to \"data\" list\n",
    "            data.append(image)\n",
    "            # Append the label to \"labels\" list\n",
    "            labels.append(i)\n",
    "        # If it doesn't work, shows an error message\n",
    "        except:\n",
    "            print(\"Error loading image\")\n",
    "\n",
    "#Converting lists into numpy arrays\n",
    "data = np.array(data)\n",
    "labels = np.array(labels)"
   ]
  },
  {
   "cell_type": "markdown",
   "id": "94a9dd49",
   "metadata": {},
   "source": [
    "Finally, we have stored all the images and their labels into lists (data and labels).\n",
    "\n",
    "We need to convert the list into numpy arrays for feeding to the model.\n",
    "\n",
    "The shape of data is (39209, 30, 30, 3) which means that there are 39,209 images of size 30×30 pixels and the last 3 means the data contains colored images (RGB value).\n",
    "\n",
    "With the sklearn package, we use the train_test_split() method to split training and testing data.\n",
    "\n",
    "From the keras.utils package, we use to_categorical method to convert the labels present in y_train and t_test into one-hot encoding."
   ]
  },
  {
   "cell_type": "code",
   "execution_count": 36,
   "id": "f5e352d3",
   "metadata": {},
   "outputs": [
    {
     "name": "stdout",
     "output_type": "stream",
     "text": [
      "(78418, 30, 30, 3) (78418,)\n",
      "(62734, 30, 30, 3) (15684, 30, 30, 3) (62734,) (15684,)\n"
     ]
    }
   ],
   "source": [
    "print(data.shape, labels.shape)\n",
    "#Splitting training and testing dataset\n",
    "X_train, X_test, y_train, y_test = train_test_split(data, labels, test_size=0.2, random_state=42)\n",
    "\n",
    "print(X_train.shape, X_test.shape, y_train.shape, y_test.shape)\n",
    "\n",
    "# Use \"to_categorical\" method to convert the labels present in y_train and y_test into one-hot encoding\n",
    "y_train = to_categorical(y_train, 43)\n",
    "y_test = to_categorical(y_test, 43)"
   ]
  },
  {
   "cell_type": "markdown",
   "id": "1c2f2ad4",
   "metadata": {},
   "source": [
    "### Step 2: Build a CNN model\n",
    "\n",
    "To classify the images into their respective categories, we will build a CNN model (Convolutional Neural Network). CNN is best for image classification purposes.\n",
    "\n",
    "The architecture of our model is:\n",
    "\n",
    "- 2 Conv2D layer (filter=32, kernel_size=(5,5), activation=”relu”)\n",
    "- MaxPool2D layer ( pool_size=(2,2))\n",
    "- Dropout layer (rate=0.25)\n",
    "- 2 Conv2D layer (filter=64, kernel_size=(3,3), activation=”relu”)\n",
    "- MaxPool2D layer ( pool_size=(2,2))\n",
    "- Dropout layer (rate=0.25)\n",
    "- Flatten layer to squeeze the layers into 1 dimension\n",
    "- Dense Fully connected layer (256 nodes, activation=”relu”)\n",
    "- Dropout layer (rate=0.5)\n",
    "- Dense layer (43 nodes, activation=”softmax”)\n",
    "\n",
    "We compile the model with Adam optimizer which performs well and loss is “categorical_crossentropy” because we have multiple classes to categorise."
   ]
  },
  {
   "cell_type": "code",
   "execution_count": 37,
   "id": "9db8bf4d",
   "metadata": {},
   "outputs": [],
   "source": [
    "#Building the model\n",
    "model = Sequential()\n",
    "model.add(Conv2D(filters=32, kernel_size=(5,5), activation='relu', input_shape=X_train.shape[1:]))\n",
    "model.add(Conv2D(filters=32, kernel_size=(5,5), activation='relu'))\n",
    "model.add(MaxPool2D(pool_size=(2, 2)))\n",
    "model.add(Dropout(rate=0.25))\n",
    "model.add(Conv2D(filters=64, kernel_size=(3, 3), activation='relu'))\n",
    "model.add(Conv2D(filters=64, kernel_size=(3, 3), activation='relu'))\n",
    "model.add(MaxPool2D(pool_size=(2, 2)))\n",
    "model.add(Dropout(rate=0.25))\n",
    "model.add(Flatten())\n",
    "model.add(Dense(256, activation='relu'))\n",
    "model.add(Dropout(rate=0.5))\n",
    "model.add(Dense(43, activation='softmax'))\n",
    "\n",
    "#Compilation of the model\n",
    "model.compile(loss='categorical_crossentropy', optimizer='adam', metrics=['accuracy'])"
   ]
  },
  {
   "cell_type": "markdown",
   "id": "392068d4",
   "metadata": {},
   "source": [
    "### Steps 3: Train and validate the model\n",
    "\n",
    "After building the model architecture, we then train the model using model.fit(). I tried with batch size 32 and 64. Our model performed better with 64 batch size. And after 15 epochs the accuracy was stable."
   ]
  },
  {
   "cell_type": "code",
   "execution_count": 38,
   "id": "bb07f5d1",
   "metadata": {},
   "outputs": [
    {
     "name": "stdout",
     "output_type": "stream",
     "text": [
      "Epoch 1/15\n",
      "1961/1961 [==============================] - 212s 105ms/step - loss: 1.4445 - accuracy: 0.6219 - val_loss: 0.3366 - val_accuracy: 0.9039\n",
      "Epoch 2/15\n",
      "1961/1961 [==============================] - 203s 104ms/step - loss: 0.4980 - accuracy: 0.8532 - val_loss: 0.1151 - val_accuracy: 0.9698\n",
      "Epoch 3/15\n",
      "1961/1961 [==============================] - 177s 90ms/step - loss: 0.3389 - accuracy: 0.9006 - val_loss: 0.0928 - val_accuracy: 0.9734\n",
      "Epoch 4/15\n",
      "1961/1961 [==============================] - 176s 90ms/step - loss: 0.2789 - accuracy: 0.9189 - val_loss: 0.0609 - val_accuracy: 0.9831\n",
      "Epoch 5/15\n",
      "1961/1961 [==============================] - 181s 93ms/step - loss: 0.2719 - accuracy: 0.9225 - val_loss: 0.0674 - val_accuracy: 0.9813\n",
      "Epoch 6/15\n",
      "1961/1961 [==============================] - 182s 93ms/step - loss: 0.2406 - accuracy: 0.9300 - val_loss: 0.0700 - val_accuracy: 0.9789\n",
      "Epoch 7/15\n",
      "1961/1961 [==============================] - 181s 92ms/step - loss: 0.2352 - accuracy: 0.9339 - val_loss: 0.0379 - val_accuracy: 0.9895\n",
      "Epoch 8/15\n",
      "1961/1961 [==============================] - 183s 93ms/step - loss: 0.2283 - accuracy: 0.9374 - val_loss: 0.0715 - val_accuracy: 0.9799\n",
      "Epoch 9/15\n",
      "1961/1961 [==============================] - 170s 87ms/step - loss: 0.2154 - accuracy: 0.9415 - val_loss: 0.0501 - val_accuracy: 0.9846\n",
      "Epoch 10/15\n",
      "1961/1961 [==============================] - 237s 121ms/step - loss: 0.2199 - accuracy: 0.9407 - val_loss: 0.0606 - val_accuracy: 0.9810\n",
      "Epoch 11/15\n",
      "1961/1961 [==============================] - 180s 92ms/step - loss: 0.2143 - accuracy: 0.9430 - val_loss: 0.0416 - val_accuracy: 0.9880\n",
      "Epoch 12/15\n",
      "1961/1961 [==============================] - 182s 93ms/step - loss: 0.2193 - accuracy: 0.9428 - val_loss: 0.0418 - val_accuracy: 0.9877\n",
      "Epoch 13/15\n",
      "1961/1961 [==============================] - 185s 94ms/step - loss: 0.2157 - accuracy: 0.9421 - val_loss: 0.0331 - val_accuracy: 0.9899\n",
      "Epoch 14/15\n",
      "1961/1961 [==============================] - 186s 95ms/step - loss: 0.2043 - accuracy: 0.9466 - val_loss: 0.0332 - val_accuracy: 0.9913\n",
      "Epoch 15/15\n",
      "1961/1961 [==============================] - 182s 93ms/step - loss: 0.2189 - accuracy: 0.9438 - val_loss: 0.0418 - val_accuracy: 0.9877\n"
     ]
    }
   ],
   "source": [
    "epochs = 15\n",
    "history = model.fit(X_train, y_train, batch_size=32, epochs=epochs, validation_data=(X_test, y_test))"
   ]
  },
  {
   "cell_type": "markdown",
   "id": "cef813fa",
   "metadata": {},
   "source": [
    "Our model got a 94% accuracy on the training dataset. With matplotlib, we plot the graph for accuracy and the loss."
   ]
  },
  {
   "cell_type": "code",
   "execution_count": 40,
   "id": "c6a35174",
   "metadata": {},
   "outputs": [
    {
     "data": {
      "image/png": "[encoded data removed]",
      "text/plain": [
       "<Figure size 640x480 with 1 Axes>"
      ]
     },
     "metadata": {},
     "output_type": "display_data"
    },
    {
     "data": {
      "image/png": "[encoded data removed]",
      "text/plain": [
       "<Figure size 640x480 with 1 Axes>"
      ]
     },
     "metadata": {},
     "output_type": "display_data"
    }
   ],
   "source": [
    "#plotting graphs for accuracy \n",
    "plt.figure(0)\n",
    "plt.plot(history.history['accuracy'], label='training accuracy')\n",
    "plt.plot(history.history['val_accuracy'], label='val accuracy')\n",
    "plt.title('Accuracy')\n",
    "plt.xlabel('epochs')\n",
    "plt.ylabel('accuracy')\n",
    "plt.legend()\n",
    "plt.show()\n",
    "\n",
    "plt.figure(1)\n",
    "plt.plot(history.history['loss'], label='training loss')\n",
    "plt.plot(history.history['val_loss'], label='val loss')\n",
    "plt.title('Loss')\n",
    "plt.xlabel('epochs')\n",
    "plt.ylabel('loss')\n",
    "plt.legend()\n",
    "plt.show()"
   ]
  },
  {
   "cell_type": "markdown",
   "id": "87709817",
   "metadata": {},
   "source": [
    "### Step 4: Test our model with test dataset\n",
    "\n",
    "Our dataset contains a test folder and in a test.csv file, we have the details related to the image path and their respective class labels. We extract the image path and labels using pandas. Then to predict the model, we have to resize our images to 30×30 pixels and make a numpy array containing all image data. From the sklearn.metrics, we imported the accuracy_score and observed how our model predicted the actual labels. We achieved a 94% accuracy in this model."
   ]
  },
  {
   "cell_type": "code",
   "execution_count": 41,
   "id": "255e0e43",
   "metadata": {},
   "outputs": [
    {
     "name": "stdout",
     "output_type": "stream",
     "text": [
      "395/395 [==============================] - 5s 12ms/step\n",
      "0.9459224069675376\n"
     ]
    }
   ],
   "source": [
    "#testing accuracy on test dataset\n",
    "from sklearn.metrics import accuracy_score\n",
    "\n",
    "y_test = pd.read_csv('Test.csv')\n",
    "\n",
    "labels = y_test[\"ClassId\"].values\n",
    "imgs = y_test[\"Path\"].values\n",
    "\n",
    "data=[]\n",
    "\n",
    "for img in imgs:\n",
    "    image = Image.open(img)\n",
    "    image = image.resize((30,30))\n",
    "    data.append(np.array(image))\n",
    "\n",
    "X_test=np.array(data)\n",
    "\n",
    "# pred = model.predict_classes(X_test) - discontinued -- This function were removed in TensorFlow version 2.6\n",
    "predict_x=model.predict(X_test) \n",
    "pred=np.argmax(predict_x,axis=1)\n",
    "\n",
    "#Accuracy with the test data\n",
    "from sklearn.metrics import accuracy_score\n",
    "print(accuracy_score(labels, pred))\n"
   ]
  },
  {
   "cell_type": "markdown",
   "id": "a837770a",
   "metadata": {},
   "source": [
    "In the end, we are going to save the model that we have trained using the Keras model.save() function."
   ]
  },
  {
   "cell_type": "code",
   "execution_count": 77,
   "id": "235f4a1b",
   "metadata": {
    "scrolled": true
   },
   "outputs": [
    {
     "name": "stderr",
     "output_type": "stream",
     "text": [
      "WARNING:absl:Found untraced functions such as _jit_compiled_convolution_op, _jit_compiled_convolution_op, _jit_compiled_convolution_op, _jit_compiled_convolution_op, _update_step_xla while saving (showing 5 of 5). These functions will not be directly callable after loading.\n"
     ]
    },
    {
     "name": "stdout",
     "output_type": "stream",
     "text": [
      "INFO:tensorflow:Assets written to: model\\assets\n"
     ]
    },
    {
     "name": "stderr",
     "output_type": "stream",
     "text": [
      "INFO:tensorflow:Assets written to: model\\assets\n"
     ]
    }
   ],
   "source": [
    "model.save('model')"
   ]
  },
  {
   "cell_type": "markdown",
   "id": "7fef3769",
   "metadata": {},
   "source": [
    "#### Considerations\n",
    "Approximately 94%. It is a good result, but it can be improved if we use a pre-trained CNN."
   ]
  }
 ],
 "metadata": {
  "kernelspec": {
   "display_name": "Python 3 (ipykernel)",
   "language": "python",
   "name": "python3"
  },
  "language_info": {
   "codemirror_mode": {
    "name": "ipython",
    "version": 3
   },
   "file_extension": ".py",
   "mimetype": "text/x-python",
   "name": "python",
   "nbconvert_exporter": "python",
   "pygments_lexer": "ipython3",
   "version": "3.10.8"
  }
 },
 "nbformat": 4,
 "nbformat_minor": 5
}
